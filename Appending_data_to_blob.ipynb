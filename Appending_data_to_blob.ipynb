{
  "nbformat": 4,
  "nbformat_minor": 0,
  "metadata": {
    "colab": {
      "name": "Appending_data_to_blob.ipynb",
      "provenance": []
    },
    "kernelspec": {
      "name": "python3",
      "display_name": "Python 3"
    },
    "language_info": {
      "name": "python"
    }
  },
  "cells": [
    {
      "cell_type": "code",
      "metadata": {
        "colab": {
          "base_uri": "https://localhost:8080/"
        },
        "id": "rMqRnW2yw5jP",
        "outputId": "a2845a4e-1f82-44ee-c10a-c272ab298912"
      },
      "source": [
        "!pip install azure-storage --upgrade"
      ],
      "execution_count": 1,
      "outputs": [
        {
          "output_type": "stream",
          "name": "stdout",
          "text": [
            "Collecting azure-storage\n",
            "  Downloading azure-storage-0.37.0.zip (4.3 kB)\n",
            "\u001b[33mWARNING: Discarding https://files.pythonhosted.org/packages/5d/cd/cac628adf6cb0086a24c20d76609445f1bf841483d56ec9f5645bbaa9ab7/azure-storage-0.37.0.zip#sha256=8c7b0e3867385172013aa396bc8d661145c029ede6515a467f299e020584bcea (from https://pypi.org/simple/azure-storage/). Command errored out with exit status 1: python setup.py egg_info Check the logs for full command output.\u001b[0m\n",
            "  Downloading azure_storage-0.36.0-py2.py3-none-any.whl (190 kB)\n",
            "\u001b[K     |████████████████████████████████| 190 kB 9.7 MB/s \n",
            "\u001b[?25hRequirement already satisfied: requests in /usr/local/lib/python3.7/dist-packages (from azure-storage) (2.23.0)\n",
            "Collecting azure-common>=1.1.5\n",
            "  Downloading azure_common-1.1.27-py2.py3-none-any.whl (12 kB)\n",
            "Requirement already satisfied: python-dateutil in /usr/local/lib/python3.7/dist-packages (from azure-storage) (2.8.2)\n",
            "Collecting azure-nspkg>=2.0.0\n",
            "  Downloading azure_nspkg-3.0.2-py3-none-any.whl (1.5 kB)\n",
            "Collecting cryptography\n",
            "  Downloading cryptography-35.0.0-cp36-abi3-manylinux_2_24_x86_64.whl (3.5 MB)\n",
            "\u001b[K     |████████████████████████████████| 3.5 MB 51.3 MB/s \n",
            "\u001b[?25hRequirement already satisfied: cffi>=1.12 in /usr/local/lib/python3.7/dist-packages (from cryptography->azure-storage) (1.14.6)\n",
            "Requirement already satisfied: pycparser in /usr/local/lib/python3.7/dist-packages (from cffi>=1.12->cryptography->azure-storage) (2.20)\n",
            "Requirement already satisfied: six>=1.5 in /usr/local/lib/python3.7/dist-packages (from python-dateutil->azure-storage) (1.15.0)\n",
            "Requirement already satisfied: certifi>=2017.4.17 in /usr/local/lib/python3.7/dist-packages (from requests->azure-storage) (2021.5.30)\n",
            "Requirement already satisfied: chardet<4,>=3.0.2 in /usr/local/lib/python3.7/dist-packages (from requests->azure-storage) (3.0.4)\n",
            "Requirement already satisfied: idna<3,>=2.5 in /usr/local/lib/python3.7/dist-packages (from requests->azure-storage) (2.10)\n",
            "Requirement already satisfied: urllib3!=1.25.0,!=1.25.1,<1.26,>=1.21.1 in /usr/local/lib/python3.7/dist-packages (from requests->azure-storage) (1.24.3)\n",
            "Installing collected packages: cryptography, azure-nspkg, azure-common, azure-storage\n",
            "Successfully installed azure-common-1.1.27 azure-nspkg-3.0.2 azure-storage-0.36.0 cryptography-35.0.0\n"
          ]
        }
      ]
    },
    {
      "cell_type": "code",
      "metadata": {
        "id": "O5dU5X7SxDqI"
      },
      "source": [
        "from azure.storage.blob import AppendBlobService"
      ],
      "execution_count": 2,
      "outputs": []
    },
    {
      "cell_type": "code",
      "metadata": {
        "id": "ODDOeqRtxFF0"
      },
      "source": [
        "\n",
        "def append_data_to_blob(data):\n",
        "  service = AppendBlobService(account_name=\"forflasktask\", \n",
        "            account_key=\"RwmOhLQIPKvJctraS/VUoeLTqWnuqGgrkBJzu5+NzG/VNw8PxO7Ua8t1SHUJAtM1UR+S6wv5ORtexINW6TwrGw==\")\n",
        "  try:\n",
        "    service.append_blob_from_text(container_name=\"flaskwork\", blob_name=\"taskapi\", text = data)\n",
        "  except:\n",
        "    service.create_blob(container_name=\"flaskwork\", blob_name=\"taskapi\")\n",
        "    service.append_blob_from_text(container_name=\"flaskwork\", blob_name=\"taskapi\", text = data)\n",
        "  print('Data Appended to Blob Successfully.')\n",
        "\n",
        "append_data_to_blob('Hello Azure Blob Storage!')"
      ],
      "execution_count": null,
      "outputs": []
    },
    {
      "cell_type": "markdown",
      "metadata": {
        "id": "w292Lc0-xI-T"
      },
      "source": [
        "# Appending data to blob / creating & appending data to blob"
      ]
    },
    {
      "cell_type": "code",
      "metadata": {
        "id": "9DllxLsFxIWB"
      },
      "source": [
        "from azure.storage.blob import AppendBlobService\n",
        "\n",
        "def append_data_to_blob(data):\n",
        "  service = AppendBlobService(account_name=\"<STORAGE_ACCOUNT_NAME>\", \n",
        "            account_key=\"<STORAGE_ACCOUNT_KEY>\")\n",
        "  try:\n",
        "    service.append_blob_from_text(container_name=\"<CONTAINER_NAME>\", blob_name=\"<FILE_NAME>\", text = data)\n",
        "  except:\n",
        "    service.create_blob(container_name=\"<CONTAINER_NAME>\", blob_name=\"<FILE_NAME>\")\n",
        "    service.append_blob_from_text(container_name=\"<CONTAINER_NAME>\", blob_name=\"<FILE_NAME>\", text = data)\n",
        "  print('Data Appended to Blob Successfully.')\n",
        "\n"
      ],
      "execution_count": null,
      "outputs": []
    },
    {
      "cell_type": "code",
      "metadata": {
        "id": "mUP3p947xvUQ"
      },
      "source": [
        "# calling the function\n",
        "\n",
        "append_data_to_blob('Hello Azure Blob Storage!')"
      ],
      "execution_count": null,
      "outputs": []
    }
  ]
}